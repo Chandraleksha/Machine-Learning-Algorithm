{
  "cells": [
    {
      "cell_type": "markdown",
      "source": [
        "Chandraleksha.R\n",
        "\n",
        "1RVU22BSC019"
      ],
      "metadata": {
        "id": "qOAygtIMB6_3"
      }
    },
    {
      "cell_type": "markdown",
      "metadata": {
        "id": "7sMxsvYauK56"
      },
      "source": [
        "# 1. What is Pruning?"
      ]
    },
    {
      "cell_type": "markdown",
      "metadata": {
        "id": "TMzDPrhQuK6E"
      },
      "source": [
        "Pruning is a way to reduce the size of a neural network by using compression. After a network is trained, it's weights are ranked according to their importance. A percentage of the weights are pruned away (as in set to zero), in accordance with their importance. We test the pruned model on a test set and if the performance still holds out, we prune more.\n",
        "\n",
        "We keep pruning until the performance remains satisfactory. The aim is to find the level of pruining that provides us with an acceptable compromise in performance for a decent reduction in the network size.\n",
        "\n",
        "There are two basic approaches of Pruning:\n",
        "\n",
        "* Weight Pruning\n",
        "\n",
        "Here the individual weights are ranked are ranked according to their magnitudes and the ones with small values are deemed less important.\n",
        "\n",
        "* Neuron pruining\n",
        "\n",
        "Here we rank entire neurons (units) according to their [L2 norm](https://en.wikipedia.org/wiki/Norm_(mathematics). The weights accociated with any neuron exist as columns in the weight matrices of a network. By setting entire columns to zero, we can essentially prune away entire neurons.\n",
        "\n",
        "Following figure is a good repesentative diagram. Note that a synapse refers to the connection between any two neurons. When a weight is pruned, essentially this connection disappears. And when all weights associated with a neuron are pruned, the neuron gets a sum total input of zero, so basically it does nothing, i.e disappears."
      ]
    },
    {
      "cell_type": "markdown",
      "metadata": {
        "id": "R6Xt_73duK6H"
      },
      "source": [
        "![](https://i.imgur.com/ya0PWGI.jpg)"
      ]
    },
    {
      "cell_type": "markdown",
      "metadata": {
        "id": "59x_SkgPuK6J"
      },
      "source": [
        "# 2. Importing Utilities"
      ]
    },
    {
      "cell_type": "markdown",
      "metadata": {
        "id": "wxzPSZBVuK6J"
      },
      "source": [
        "### Libraries and Modules"
      ]
    },
    {
      "cell_type": "code",
      "execution_count": null,
      "metadata": {
        "_cell_guid": "b1076dfc-b9ad-4769-8c92-a6c4dae69d19",
        "_uuid": "8f2839f25d086af736a60e9eeb907d3b93b6e0e5",
        "id": "tg4OLaiZuK6K"
      },
      "outputs": [],
      "source": [
        "# Input data files are available in the \"../input/\" directory.\n",
        "# For example, running this (by clicking run or pressing Shift+Enter) will list all files under the input directory\n",
        "\n",
        "import os\n",
        "for dirname, _, filenames in os.walk('/kaggle/input'):\n",
        "    for filename in filenames:\n",
        "        print(os.path.join(dirname, filename))\n",
        "\n",
        "# Any results you write to the current directory are saved as output.\n",
        "\n",
        "import pandas as pd\n",
        "\n",
        "import numpy as np\n",
        "\n",
        "from matplotlib import pyplot as plt\n",
        "%matplotlib inline\n",
        "\n",
        "from sklearn.model_selection import train_test_split\n",
        "from tensorflow.keras.datasets import fashion_mnist\n",
        "from tensorflow.keras.utils import to_categorical\n",
        "from tensorflow.keras.models import Sequential\n",
        "from tensorflow.keras.layers import Dense, Activation\n",
        "from tensorflow.keras.optimizers import Adam\n",
        "from tensorflow.keras.callbacks import ModelCheckpoint\n",
        "from tensorflow.keras.models import load_model"
      ]
    },
    {
      "cell_type": "markdown",
      "metadata": {
        "id": "1B1-KGTzuK6N"
      },
      "source": [
        "### Fashion MNIST dataset"
      ]
    },
    {
      "cell_type": "markdown",
      "metadata": {
        "id": "1wSXlfW7uK6O"
      },
      "source": [
        "We will use the Fashion-MNIST dataset and train a vanilla Neural Network on it. Then we will apply various levels of pruning on it, and then test the pruned versions on the test set.\n",
        "\n",
        "Note - Trun on the internet in the settings of the Kernel."
      ]
    },
    {
      "cell_type": "code",
      "execution_count": null,
      "metadata": {
        "colab": {
          "base_uri": "https://localhost:8080/"
        },
        "id": "OavIk6gluK6P",
        "outputId": "8c29049c-4ff4-4d34-97a0-b4ed4ac46762"
      },
      "outputs": [
        {
          "output_type": "stream",
          "name": "stdout",
          "text": [
            "Downloading data from https://storage.googleapis.com/tensorflow/tf-keras-datasets/train-labels-idx1-ubyte.gz\n",
            "\u001b[1m29515/29515\u001b[0m \u001b[32m━━━━━━━━━━━━━━━━━━━━\u001b[0m\u001b[37m\u001b[0m \u001b[1m0s\u001b[0m 0us/step\n",
            "Downloading data from https://storage.googleapis.com/tensorflow/tf-keras-datasets/train-images-idx3-ubyte.gz\n",
            "\u001b[1m26421880/26421880\u001b[0m \u001b[32m━━━━━━━━━━━━━━━━━━━━\u001b[0m\u001b[37m\u001b[0m \u001b[1m0s\u001b[0m 0us/step\n",
            "Downloading data from https://storage.googleapis.com/tensorflow/tf-keras-datasets/t10k-labels-idx1-ubyte.gz\n",
            "\u001b[1m5148/5148\u001b[0m \u001b[32m━━━━━━━━━━━━━━━━━━━━\u001b[0m\u001b[37m\u001b[0m \u001b[1m0s\u001b[0m 0us/step\n",
            "Downloading data from https://storage.googleapis.com/tensorflow/tf-keras-datasets/t10k-images-idx3-ubyte.gz\n",
            "\u001b[1m4422102/4422102\u001b[0m \u001b[32m━━━━━━━━━━━━━━━━━━━━\u001b[0m\u001b[37m\u001b[0m \u001b[1m0s\u001b[0m 0us/step\n"
          ]
        }
      ],
      "source": [
        "\n",
        "((X_train, Y_train), (X_test, Y_test)) = fashion_mnist.load_data()"
      ]
    },
    {
      "cell_type": "markdown",
      "metadata": {
        "id": "v-rv7wbAuK6Q"
      },
      "source": [
        "Create a dictionary of all classes in the target"
      ]
    },
    {
      "cell_type": "code",
      "execution_count": null,
      "metadata": {
        "_cell_guid": "79c7e3d0-c299-4dcb-8224-4455121ee9b0",
        "_uuid": "d629ff2d2480ee46fbb7e2d37f6b5fab8052498a",
        "colab": {
          "base_uri": "https://localhost:8080/"
        },
        "id": "byFo4N0HuK6R",
        "outputId": "6ad279ff-e6b2-4e89-96c9-3e896380151d"
      },
      "outputs": [
        {
          "output_type": "execute_result",
          "data": {
            "text/plain": [
              "{0: 'T-shirt',\n",
              " 1: 'Trouser',\n",
              " 2: 'Pullover',\n",
              " 3: 'Dress',\n",
              " 4: 'Code',\n",
              " 5: 'Sandal',\n",
              " 6: 'Shirt',\n",
              " 7: 'Sneaker',\n",
              " 8: 'Bag',\n",
              " 9: 'Ankle Boot'}"
            ]
          },
          "metadata": {},
          "execution_count": 3
        }
      ],
      "source": [
        "class_labels = pd.Series(['T-shirt', 'Trouser', 'Pullover', 'Dress', 'Code', 'Sandal', 'Shirt', 'Sneaker', 'Bag', 'Ankle Boot'])\n",
        "labels_dict = class_labels.to_dict()\n",
        "labels_dict"
      ]
    },
    {
      "cell_type": "markdown",
      "metadata": {
        "id": "2ld8zmoluK6R"
      },
      "source": [
        "Fetch 5 images at random from the training data, plot them and fetch their corresponding labels from the training targets."
      ]
    },
    {
      "cell_type": "code",
      "execution_count": null,
      "metadata": {
        "colab": {
          "base_uri": "https://localhost:8080/",
          "height": 1000
        },
        "id": "T8B-1dUIuK6S",
        "outputId": "799058c2-2309-4309-ceb6-c847d393cbc8"
      },
      "outputs": [
        {
          "output_type": "display_data",
          "data": {
            "text/plain": [
              "<Figure size 640x480 with 1 Axes>"
            ],
            "image/png": "[encoded data removed]"
          },
          "metadata": {}
        },
        {
          "output_type": "display_data",
          "data": {
            "text/plain": [
              "<Figure size 640x480 with 1 Axes>"
            ],
            "image/png": "[encoded data removed]"
          },
          "metadata": {}
        },
        {
          "output_type": "display_data",
          "data": {
            "text/plain": [
              "<Figure size 640x480 with 1 Axes>"
            ],
            "image/png": "[encoded data removed]"
          },
          "metadata": {}
        },
        {
          "output_type": "display_data",
          "data": {
            "text/plain": [
              "<Figure size 640x480 with 1 Axes>"
            ],
            "image/png": "[encoded data removed]"
          },
          "metadata": {}
        },
        {
          "output_type": "display_data",
          "data": {
            "text/plain": [
              "<Figure size 640x480 with 1 Axes>"
            ],
            "image/png": "[encoded data removed]"
          },
          "metadata": {}
        }
      ],
      "source": [
        "np.random.seed(40)\n",
        "for rand_num in np.random.randint(0, len(X_train), 5):\n",
        "    plt.figure()\n",
        "    plt.imshow(X_train[rand_num]), plt.axis('off')\n",
        "    plt.title(labels_dict[Y_train[rand_num]])"
      ]
    },
    {
      "cell_type": "markdown",
      "metadata": {
        "id": "E0Xc5GrEuK6S"
      },
      "source": [
        "# 3. Data preprocessing"
      ]
    },
    {
      "cell_type": "markdown",
      "metadata": {
        "id": "QVEBNhkxuK6T"
      },
      "source": [
        "### Reshaping input data, and normalizing it"
      ]
    },
    {
      "cell_type": "markdown",
      "metadata": {
        "id": "t-DozS0luK6U"
      },
      "source": [
        "We will reshape the image data from 28x28 to 784x1, and normalize all values between 0 and 1."
      ]
    },
    {
      "cell_type": "code",
      "execution_count": null,
      "metadata": {
        "id": "UewQ7UI-uK6U"
      },
      "outputs": [],
      "source": [
        "X_train_reshaped = X_train.reshape(len(X_train), -1)\n",
        "X_test_reshaped = X_test.reshape(len(X_test), -1)\n",
        "\n",
        "X_train_norm = X_train_reshaped/255\n",
        "X_test_norm = X_test_reshaped/255"
      ]
    },
    {
      "cell_type": "code",
      "execution_count": null,
      "metadata": {
        "colab": {
          "base_uri": "https://localhost:8080/"
        },
        "id": "arPWbDwpuK6U",
        "outputId": "e85886d3-271d-40a7-d508-a8ee0a8c1e4b"
      },
      "outputs": [
        {
          "output_type": "stream",
          "name": "stdout",
          "text": [
            "Number of input features (image pixels) :  784\n",
            "Number of target classes (fashion categories) :  10\n"
          ]
        }
      ],
      "source": [
        "n_features = X_train_norm.shape[1]\n",
        "n_classes =  len(class_labels)\n",
        "\n",
        "print('Number of input features (image pixels) : ', n_features)\n",
        "print('Number of target classes (fashion categories) : ', n_classes)"
      ]
    },
    {
      "cell_type": "markdown",
      "metadata": {
        "id": "utw49hgFuK6V"
      },
      "source": [
        "### One-Hot transformation of Target Data"
      ]
    },
    {
      "cell_type": "code",
      "execution_count": null,
      "metadata": {
        "id": "_jjShsxguK6V"
      },
      "outputs": [],
      "source": [
        "Y_train_onehot = to_categorical(Y_train, num_classes = n_classes)\n",
        "Y_test_onehot = to_categorical(Y_test, num_classes = n_classes)"
      ]
    },
    {
      "cell_type": "markdown",
      "metadata": {
        "id": "Hi1GDIfZuK6V"
      },
      "source": [
        "### Creation of a Validation set"
      ]
    },
    {
      "cell_type": "markdown",
      "metadata": {
        "id": "wBNUINOiuK6V"
      },
      "source": [
        "We need to separate out a validation set from the training set, that is to be used while traing the network to keep an eye on overfitting ot underfitting."
      ]
    },
    {
      "cell_type": "code",
      "execution_count": null,
      "metadata": {
        "colab": {
          "base_uri": "https://localhost:8080/"
        },
        "id": "V3la89kwuK6W",
        "outputId": "5f04d3da-6653-4995-9efd-7fac2ce00649"
      },
      "outputs": [
        {
          "output_type": "stream",
          "name": "stdout",
          "text": [
            "Shape of data used for training, and shape of training targets : \n",
            "  (60000, 28, 28) , (60000,)\n",
            "Shape of data used for validation, and shape of validation targets: \n",
            "  (10000, 784) , (10000, 10)\n"
          ]
        }
      ],
      "source": [
        "X_train_final, X_valid, Y_train_final, Y_valid = train_test_split(X_train_norm, Y_train_onehot,\n",
        "                                                                  test_size=0.16666)\n",
        "\n",
        "print('Shape of data used for training, and shape of training targets : \\n ', X_train.shape, ',', Y_train.shape)\n",
        "print('Shape of data used for validation, and shape of validation targets: \\n ', X_valid.shape, ',', Y_valid.shape)"
      ]
    },
    {
      "cell_type": "markdown",
      "metadata": {
        "id": "dSkij3oSuK6W"
      },
      "source": [
        "# 4. Neural Network set-up"
      ]
    },
    {
      "cell_type": "markdown",
      "metadata": {
        "id": "lJNND3ksuK6W"
      },
      "source": [
        "We will use five dense layers. We will set 'bias' to false for now, since that will make the weight matrices easier to work with. The weights of the final dense layers (the one leading to the output nodes) will not be pruned. But first, let's create the model and train it."
      ]
    },
    {
      "cell_type": "code",
      "execution_count": null,
      "metadata": {
        "colab": {
          "base_uri": "https://localhost:8080/",
          "height": 345
        },
        "id": "3D_QkvZjuK6W",
        "outputId": "68dfdda9-9265-4a04-feda-ccd981f5a050"
      },
      "outputs": [
        {
          "output_type": "stream",
          "name": "stderr",
          "text": [
            "/usr/local/lib/python3.11/dist-packages/keras/src/layers/core/dense.py:87: UserWarning: Do not pass an `input_shape`/`input_dim` argument to a layer. When using Sequential models, prefer using an `Input(shape)` object as the first layer in the model instead.\n",
            "  super().__init__(activity_regularizer=activity_regularizer, **kwargs)\n"
          ]
        },
        {
          "output_type": "display_data",
          "data": {
            "text/plain": [
              "\u001b[1mModel: \"sequential\"\u001b[0m\n"
            ],
            "text/html": [
              "<pre style=\"white-space:pre;overflow-x:auto;line-height:normal;font-family:Menlo,'DejaVu Sans Mono',consolas,'Courier New',monospace\"><span style=\"font-weight: bold\">Model: \"sequential\"</span>\n",
              "</pre>\n"
            ]
          },
          "metadata": {}
        },
        {
          "output_type": "display_data",
          "data": {
            "text/plain": [
              "┏━━━━━━━━━━━━━━━━━━━━━━━━━━━━━━━━━┳━━━━━━━━━━━━━━━━━━━━━━━━┳━━━━━━━━━━━━━━━┓\n",
              "┃\u001b[1m \u001b[0m\u001b[1mLayer (type)                   \u001b[0m\u001b[1m \u001b[0m┃\u001b[1m \u001b[0m\u001b[1mOutput Shape          \u001b[0m\u001b[1m \u001b[0m┃\u001b[1m \u001b[0m\u001b[1m      Param #\u001b[0m\u001b[1m \u001b[0m┃\n",
              "┡━━━━━━━━━━━━━━━━━━━━━━━━━━━━━━━━━╇━━━━━━━━━━━━━━━━━━━━━━━━╇━━━━━━━━━━━━━━━┩\n",
              "│ dense (\u001b[38;5;33mDense\u001b[0m)                   │ (\u001b[38;5;45mNone\u001b[0m, \u001b[38;5;34m1000\u001b[0m)           │       \u001b[38;5;34m784,000\u001b[0m │\n",
              "├─────────────────────────────────┼────────────────────────┼───────────────┤\n",
              "│ dense_1 (\u001b[38;5;33mDense\u001b[0m)                 │ (\u001b[38;5;45mNone\u001b[0m, \u001b[38;5;34m1000\u001b[0m)           │     \u001b[38;5;34m1,000,000\u001b[0m │\n",
              "├─────────────────────────────────┼────────────────────────┼───────────────┤\n",
              "│ dense_2 (\u001b[38;5;33mDense\u001b[0m)                 │ (\u001b[38;5;45mNone\u001b[0m, \u001b[38;5;34m500\u001b[0m)            │       \u001b[38;5;34m500,000\u001b[0m │\n",
              "├─────────────────────────────────┼────────────────────────┼───────────────┤\n",
              "│ dense_3 (\u001b[38;5;33mDense\u001b[0m)                 │ (\u001b[38;5;45mNone\u001b[0m, \u001b[38;5;34m200\u001b[0m)            │       \u001b[38;5;34m100,000\u001b[0m │\n",
              "├─────────────────────────────────┼────────────────────────┼───────────────┤\n",
              "│ dense_4 (\u001b[38;5;33mDense\u001b[0m)                 │ (\u001b[38;5;45mNone\u001b[0m, \u001b[38;5;34m10\u001b[0m)             │         \u001b[38;5;34m2,000\u001b[0m │\n",
              "└─────────────────────────────────┴────────────────────────┴───────────────┘\n"
            ],
            "text/html": [
              "<pre style=\"white-space:pre;overflow-x:auto;line-height:normal;font-family:Menlo,'DejaVu Sans Mono',consolas,'Courier New',monospace\">┏━━━━━━━━━━━━━━━━━━━━━━━━━━━━━━━━━┳━━━━━━━━━━━━━━━━━━━━━━━━┳━━━━━━━━━━━━━━━┓\n",
              "┃<span style=\"font-weight: bold\"> Layer (type)                    </span>┃<span style=\"font-weight: bold\"> Output Shape           </span>┃<span style=\"font-weight: bold\">       Param # </span>┃\n",
              "┡━━━━━━━━━━━━━━━━━━━━━━━━━━━━━━━━━╇━━━━━━━━━━━━━━━━━━━━━━━━╇━━━━━━━━━━━━━━━┩\n",
              "│ dense (<span style=\"color: #0087ff; text-decoration-color: #0087ff\">Dense</span>)                   │ (<span style=\"color: #00d7ff; text-decoration-color: #00d7ff\">None</span>, <span style=\"color: #00af00; text-decoration-color: #00af00\">1000</span>)           │       <span style=\"color: #00af00; text-decoration-color: #00af00\">784,000</span> │\n",
              "├─────────────────────────────────┼────────────────────────┼───────────────┤\n",
              "│ dense_1 (<span style=\"color: #0087ff; text-decoration-color: #0087ff\">Dense</span>)                 │ (<span style=\"color: #00d7ff; text-decoration-color: #00d7ff\">None</span>, <span style=\"color: #00af00; text-decoration-color: #00af00\">1000</span>)           │     <span style=\"color: #00af00; text-decoration-color: #00af00\">1,000,000</span> │\n",
              "├─────────────────────────────────┼────────────────────────┼───────────────┤\n",
              "│ dense_2 (<span style=\"color: #0087ff; text-decoration-color: #0087ff\">Dense</span>)                 │ (<span style=\"color: #00d7ff; text-decoration-color: #00d7ff\">None</span>, <span style=\"color: #00af00; text-decoration-color: #00af00\">500</span>)            │       <span style=\"color: #00af00; text-decoration-color: #00af00\">500,000</span> │\n",
              "├─────────────────────────────────┼────────────────────────┼───────────────┤\n",
              "│ dense_3 (<span style=\"color: #0087ff; text-decoration-color: #0087ff\">Dense</span>)                 │ (<span style=\"color: #00d7ff; text-decoration-color: #00d7ff\">None</span>, <span style=\"color: #00af00; text-decoration-color: #00af00\">200</span>)            │       <span style=\"color: #00af00; text-decoration-color: #00af00\">100,000</span> │\n",
              "├─────────────────────────────────┼────────────────────────┼───────────────┤\n",
              "│ dense_4 (<span style=\"color: #0087ff; text-decoration-color: #0087ff\">Dense</span>)                 │ (<span style=\"color: #00d7ff; text-decoration-color: #00d7ff\">None</span>, <span style=\"color: #00af00; text-decoration-color: #00af00\">10</span>)             │         <span style=\"color: #00af00; text-decoration-color: #00af00\">2,000</span> │\n",
              "└─────────────────────────────────┴────────────────────────┴───────────────┘\n",
              "</pre>\n"
            ]
          },
          "metadata": {}
        },
        {
          "output_type": "display_data",
          "data": {
            "text/plain": [
              "\u001b[1m Total params: \u001b[0m\u001b[38;5;34m2,386,000\u001b[0m (9.10 MB)\n"
            ],
            "text/html": [
              "<pre style=\"white-space:pre;overflow-x:auto;line-height:normal;font-family:Menlo,'DejaVu Sans Mono',consolas,'Courier New',monospace\"><span style=\"font-weight: bold\"> Total params: </span><span style=\"color: #00af00; text-decoration-color: #00af00\">2,386,000</span> (9.10 MB)\n",
              "</pre>\n"
            ]
          },
          "metadata": {}
        },
        {
          "output_type": "display_data",
          "data": {
            "text/plain": [
              "\u001b[1m Trainable params: \u001b[0m\u001b[38;5;34m2,386,000\u001b[0m (9.10 MB)\n"
            ],
            "text/html": [
              "<pre style=\"white-space:pre;overflow-x:auto;line-height:normal;font-family:Menlo,'DejaVu Sans Mono',consolas,'Courier New',monospace\"><span style=\"font-weight: bold\"> Trainable params: </span><span style=\"color: #00af00; text-decoration-color: #00af00\">2,386,000</span> (9.10 MB)\n",
              "</pre>\n"
            ]
          },
          "metadata": {}
        },
        {
          "output_type": "display_data",
          "data": {
            "text/plain": [
              "\u001b[1m Non-trainable params: \u001b[0m\u001b[38;5;34m0\u001b[0m (0.00 B)\n"
            ],
            "text/html": [
              "<pre style=\"white-space:pre;overflow-x:auto;line-height:normal;font-family:Menlo,'DejaVu Sans Mono',consolas,'Courier New',monospace\"><span style=\"font-weight: bold\"> Non-trainable params: </span><span style=\"color: #00af00; text-decoration-color: #00af00\">0</span> (0.00 B)\n",
              "</pre>\n"
            ]
          },
          "metadata": {}
        }
      ],
      "source": [
        "model = Sequential()\n",
        "model.add(Dense(1000, input_dim = n_features, activation='relu', use_bias=False))\n",
        "model.add(Dense(1000, activation='relu', use_bias=False))\n",
        "model.add(Dense(500, activation='relu', use_bias=False))\n",
        "model.add(Dense(200, activation='relu', use_bias=False))\n",
        "model.add(Dense(n_classes, activation='softmax', use_bias=False))\n",
        "model.compile(loss='categorical_crossentropy', optimizer=Adam(0.0001), metrics=['accuracy'])\n",
        "\n",
        "model.summary()"
      ]
    },
    {
      "cell_type": "markdown",
      "metadata": {
        "id": "7LbmcFPLuK6X"
      },
      "source": [
        "### Saving the model while it trains"
      ]
    },
    {
      "cell_type": "markdown",
      "metadata": {
        "id": "y5CAvhTZuK6X"
      },
      "source": [
        "By using 'Callback' and 'ModelCheckpoint'utilities of Keras, we can save the model with the best weights. By 'best', I mean the ones that gave the best performance over the validation set while training. It checks if the performance of model with updated weights after every epoch is better than the performance of the saved model."
      ]
    },
    {
      "cell_type": "code",
      "execution_count": null,
      "metadata": {
        "id": "CnamiIY7uK6X"
      },
      "outputs": [],
      "source": [
        "save_at = \"model.keras\"\n",
        "save_best = ModelCheckpoint (save_at, monitor='val_accuracy', verbose=0,\n",
        "                             save_best_only=True, save_weights_only=False, mode='max')"
      ]
    },
    {
      "cell_type": "markdown",
      "metadata": {
        "id": "7AponwM1uK6X"
      },
      "source": [
        "### Training of Neural Network"
      ]
    },
    {
      "cell_type": "code",
      "execution_count": null,
      "metadata": {
        "colab": {
          "base_uri": "https://localhost:8080/",
          "height": 936
        },
        "id": "0jWCftyluK6Y",
        "outputId": "5b108476-c415-4e56-b49f-37837c86ad4c"
      },
      "outputs": [
        {
          "output_type": "stream",
          "name": "stdout",
          "text": [
            "Epoch 1/12\n",
            "\u001b[1m2500/2500\u001b[0m \u001b[32m━━━━━━━━━━━━━━━━━━━━\u001b[0m\u001b[37m\u001b[0m \u001b[1m85s\u001b[0m 33ms/step - accuracy: 0.7806 - loss: 0.6463 - val_accuracy: 0.8464 - val_loss: 0.4150\n",
            "Epoch 2/12\n",
            "\u001b[1m2500/2500\u001b[0m \u001b[32m━━━━━━━━━━━━━━━━━━━━\u001b[0m\u001b[37m\u001b[0m \u001b[1m141s\u001b[0m 33ms/step - accuracy: 0.8711 - loss: 0.3557 - val_accuracy: 0.8721 - val_loss: 0.3482\n",
            "Epoch 3/12\n",
            "\u001b[1m2500/2500\u001b[0m \u001b[32m━━━━━━━━━━━━━━━━━━━━\u001b[0m\u001b[37m\u001b[0m \u001b[1m142s\u001b[0m 33ms/step - accuracy: 0.8843 - loss: 0.3130 - val_accuracy: 0.8789 - val_loss: 0.3318\n",
            "Epoch 4/12\n",
            "\u001b[1m2500/2500\u001b[0m \u001b[32m━━━━━━━━━━━━━━━━━━━━\u001b[0m\u001b[37m\u001b[0m \u001b[1m142s\u001b[0m 33ms/step - accuracy: 0.8957 - loss: 0.2814 - val_accuracy: 0.8821 - val_loss: 0.3292\n",
            "Epoch 5/12\n",
            "\u001b[1m2500/2500\u001b[0m \u001b[32m━━━━━━━━━━━━━━━━━━━━\u001b[0m\u001b[37m\u001b[0m \u001b[1m139s\u001b[0m 32ms/step - accuracy: 0.8997 - loss: 0.2600 - val_accuracy: 0.8840 - val_loss: 0.3230\n",
            "Epoch 6/12\n",
            "\u001b[1m2500/2500\u001b[0m \u001b[32m━━━━━━━━━━━━━━━━━━━━\u001b[0m\u001b[37m\u001b[0m \u001b[1m82s\u001b[0m 33ms/step - accuracy: 0.9112 - loss: 0.2379 - val_accuracy: 0.8874 - val_loss: 0.3181\n",
            "Epoch 7/12\n",
            "\u001b[1m2500/2500\u001b[0m \u001b[32m━━━━━━━━━━━━━━━━━━━━\u001b[0m\u001b[37m\u001b[0m \u001b[1m142s\u001b[0m 33ms/step - accuracy: 0.9173 - loss: 0.2175 - val_accuracy: 0.8954 - val_loss: 0.3013\n",
            "Epoch 8/12\n",
            "\u001b[1m2500/2500\u001b[0m \u001b[32m━━━━━━━━━━━━━━━━━━━━\u001b[0m\u001b[37m\u001b[0m \u001b[1m139s\u001b[0m 32ms/step - accuracy: 0.9267 - loss: 0.1972 - val_accuracy: 0.8871 - val_loss: 0.3156\n",
            "Epoch 9/12\n",
            "\u001b[1m2500/2500\u001b[0m \u001b[32m━━━━━━━━━━━━━━━━━━━━\u001b[0m\u001b[37m\u001b[0m \u001b[1m82s\u001b[0m 33ms/step - accuracy: 0.9306 - loss: 0.1848 - val_accuracy: 0.8965 - val_loss: 0.3067\n",
            "Epoch 10/12\n",
            "\u001b[1m2500/2500\u001b[0m \u001b[32m━━━━━━━━━━━━━━━━━━━━\u001b[0m\u001b[37m\u001b[0m \u001b[1m80s\u001b[0m 32ms/step - accuracy: 0.9362 - loss: 0.1731 - val_accuracy: 0.8968 - val_loss: 0.3178\n",
            "Epoch 11/12\n",
            "\u001b[1m2500/2500\u001b[0m \u001b[32m━━━━━━━━━━━━━━━━━━━━\u001b[0m\u001b[37m\u001b[0m \u001b[1m82s\u001b[0m 33ms/step - accuracy: 0.9384 - loss: 0.1621 - val_accuracy: 0.8970 - val_loss: 0.3142\n",
            "Epoch 12/12\n",
            "\u001b[1m2500/2500\u001b[0m \u001b[32m━━━━━━━━━━━━━━━━━━━━\u001b[0m\u001b[37m\u001b[0m \u001b[1m83s\u001b[0m 33ms/step - accuracy: 0.9427 - loss: 0.1515 - val_accuracy: 0.8908 - val_loss: 0.3325\n"
          ]
        },
        {
          "output_type": "display_data",
          "data": {
            "text/plain": [
              "<Figure size 600x500 with 1 Axes>"
            ],
            "image/png": "[encoded data removed]"
          },
          "metadata": {}
        }
      ],
      "source": [
        "history = model.fit( X_train_final, Y_train_final,\n",
        "                    epochs = 12, batch_size = 20,\n",
        "                    callbacks=[save_best], verbose=1,\n",
        "                    validation_data = (X_valid, Y_valid) )\n",
        "\n",
        "plt.figure(figsize=(6, 5))\n",
        "plt.plot(history.history['accuracy'], color='r')\n",
        "plt.plot(history.history['val_accuracy'], color='b')\n",
        "plt.title('Model Accuracy', weight='bold', fontsize=16)\n",
        "plt.ylabel('accuracy', weight='bold', fontsize=14)\n",
        "plt.xlabel('epoch', weight='bold', fontsize=14)\n",
        "plt.ylim(0.5, 1)\n",
        "plt.xticks(weight='bold', fontsize=12)\n",
        "plt.yticks(weight='bold', fontsize=12)\n",
        "plt.legend(['train', 'val'], loc='upper left', prop={'size': 14})\n",
        "plt.grid(color = 'y', linewidth='0.5')\n",
        "plt.show()"
      ]
    },
    {
      "cell_type": "markdown",
      "metadata": {
        "id": "vkjUe55suK6Y"
      },
      "source": [
        "### Testing\n",
        "Let's check the model's score on the test set"
      ]
    },
    {
      "cell_type": "code",
      "execution_count": null,
      "metadata": {
        "colab": {
          "base_uri": "https://localhost:8080/"
        },
        "id": "pYiNf9KwuK6Y",
        "outputId": "a42f44db-f564-49c1-d722-729ac9855b3a"
      },
      "outputs": [
        {
          "output_type": "stream",
          "name": "stdout",
          "text": [
            "Accuracy over the test set: \n",
            "  89.28 %\n"
          ]
        }
      ],
      "source": [
        "score = model.evaluate(X_test_norm, Y_test_onehot, verbose=0)\n",
        "print('Accuracy over the test set: \\n ', round((score[1]*100), 2), '%')"
      ]
    },
    {
      "cell_type": "markdown",
      "metadata": {
        "id": "vlfe8SNcuK6Y"
      },
      "source": [
        "We will now plot 5 images at random from test set, but with titles as classified by the model, with every correct classification titled in 'green' color, and every incorrect classification titles in 'red' color."
      ]
    },
    {
      "cell_type": "code",
      "execution_count": null,
      "metadata": {
        "colab": {
          "base_uri": "https://localhost:8080/",
          "height": 1000
        },
        "id": "bdGThLknuK6Z",
        "outputId": "60c4bb1a-9018-4e1e-947e-0b135281c7eb"
      },
      "outputs": [
        {
          "output_type": "stream",
          "name": "stdout",
          "text": [
            "\u001b[1m313/313\u001b[0m \u001b[32m━━━━━━━━━━━━━━━━━━━━\u001b[0m\u001b[37m\u001b[0m \u001b[1m2s\u001b[0m 8ms/step\n"
          ]
        },
        {
          "output_type": "display_data",
          "data": {
            "text/plain": [
              "<Figure size 640x480 with 1 Axes>"
            ],
            "image/png": "[encoded data removed]"
          },
          "metadata": {}
        },
        {
          "output_type": "display_data",
          "data": {
            "text/plain": [
              "<Figure size 640x480 with 1 Axes>"
            ],
            "image/png": "[encoded data removed]"
          },
          "metadata": {}
        },
        {
          "output_type": "display_data",
          "data": {
            "text/plain": [
              "<Figure size 640x480 with 1 Axes>"
            ],
            "image/png": "[encoded data removed]"
          },
          "metadata": {}
        },
        {
          "output_type": "display_data",
          "data": {
            "text/plain": [
              "<Figure size 640x480 with 1 Axes>"
            ],
            "image/png": "[encoded data removed]"
          },
          "metadata": {}
        },
        {
          "output_type": "display_data",
          "data": {
            "text/plain": [
              "<Figure size 640x480 with 1 Axes>"
            ],
            "image/png": "[encoded data removed]"
          },
          "metadata": {}
        }
      ],
      "source": [
        "Y_pred = np.round(model.predict(X_test_norm))\n",
        "\n",
        "np.random.seed(50)\n",
        "for rand_num in np.random.randint(0, len(Y_test_onehot), 5):\n",
        "    plt.figure()\n",
        "    plt.imshow(X_test[rand_num]), plt.axis('off')\n",
        "    if np.where(Y_pred[rand_num] == 1)[0].sum() == np.where(Y_test_onehot[rand_num] == 1)[0].sum():\n",
        "        plt.title(labels_dict[np.where(Y_pred[rand_num] == 1)[0].sum()], color='g')\n",
        "    else :\n",
        "        plt.title(labels_dict[np.where(Y_pred[rand_num] == 1)[0].sum()], color='r')"
      ]
    },
    {
      "cell_type": "markdown",
      "metadata": {
        "id": "2m_Xn5V4uK6Z"
      },
      "source": [
        "# 5. Pruning Strategy"
      ]
    },
    {
      "cell_type": "markdown",
      "metadata": {
        "id": "wDgKp6SOuK6a"
      },
      "source": [
        "The strategy is simple. The weights of the network will be accessed layer wise. Each layer has two weight matrices - first one for link weights, and the second one for bias weights of every neuron of that layer. Since we are not using biases, we only have to worry about one matrix per layer for now.\n",
        "\n",
        "For weight pruning, we will create a dictionary of the weights, with every key being a three valued tuple. The first value having the layer number, second and third values having the row and column number from that layer's weight matrix.\n",
        "\n",
        "Each row number is in fact the neuron number from previous layer, and each column number is the neuron number of that particular layer. So, for neuron pruning, unlike weight pruining where we want to create a weights dictionary, here we will have a dictionary that contains column arrays. The key will be a two valued tuple. First value representing the layer number, and the second one representing the column number.\n",
        "\n",
        "We will sort the weights in the weights dictionary according to their absolute values, and the weight vectors in the neuron dictionary according to their L2 norm.\n",
        "\n",
        "We will then map the weights (or columns) from the sorted dictionaries on to the trained neural network and set the weights (or columns) to zero to obtain our compresed Neural Networks (with the set pruing level)."
      ]
    },
    {
      "cell_type": "code",
      "execution_count": null,
      "metadata": {
        "colab": {
          "base_uri": "https://localhost:8080/"
        },
        "id": "ZGR_ZdNUuK6a",
        "outputId": "2c18e9ea-068f-4d60-8e2b-e7a17298fd93"
      },
      "outputs": [
        {
          "output_type": "execute_result",
          "data": {
            "text/plain": [
              "[<Dense name=dense, built=True>,\n",
              " <Dense name=dense_1, built=True>,\n",
              " <Dense name=dense_2, built=True>,\n",
              " <Dense name=dense_3, built=True>,\n",
              " <Dense name=dense_4, built=True>]"
            ]
          },
          "metadata": {},
          "execution_count": 14
        }
      ],
      "source": [
        "trained_model = load_model(\"model.keras\")\n",
        "\n",
        "trained_model.layers"
      ]
    },
    {
      "cell_type": "code",
      "execution_count": null,
      "metadata": {
        "colab": {
          "base_uri": "https://localhost:8080/"
        },
        "id": "XtSu1qh0uK6a",
        "outputId": "01c7551e-f351-4832-98b6-7d6f88ad16e0"
      },
      "outputs": [
        {
          "output_type": "stream",
          "name": "stdout",
          "text": [
            "5\n"
          ]
        }
      ],
      "source": [
        "total_no_layers = len(trained_model.layers)\n",
        "print(total_no_layers)"
      ]
    },
    {
      "cell_type": "markdown",
      "metadata": {
        "id": "diYG3yQduK6h"
      },
      "source": [
        "We will start with zero pruning and graudally increase the level of pruning up unit 99%, and keep checking the pruned model's performance after every increase."
      ]
    },
    {
      "cell_type": "code",
      "execution_count": null,
      "metadata": {
        "id": "kBeh8IteuK6i"
      },
      "outputs": [],
      "source": [
        "#Pruning percentages\n",
        "\n",
        "K = [0, 25, 50, 60, 70, 80, 90, 95, 97, 99]"
      ]
    },
    {
      "cell_type": "markdown",
      "metadata": {
        "id": "VvY0I6AfuK6i"
      },
      "source": [
        "# 6. Weight Pruning"
      ]
    },
    {
      "cell_type": "code",
      "execution_count": null,
      "metadata": {
        "id": "G1cQ-_zbuK6j"
      },
      "outputs": [],
      "source": [
        "all_weights = {}\n",
        "\n",
        "for layer_no in range(total_no_layers - 1):         #All except the final layer                                                                          #only the first four dense layers are to be pruned\n",
        "    layer_weights = (pd.DataFrame(trained_model.layers[layer_no].get_weights()[0]).stack()).to_dict()\n",
        "    layer_weights = { (layer_no, k[0], k[1]): v for k, v in layer_weights.items() }\n",
        "    all_weights.update(layer_weights)"
      ]
    },
    {
      "cell_type": "code",
      "execution_count": null,
      "metadata": {
        "id": "fyoWF8CruK6j"
      },
      "outputs": [],
      "source": [
        "all_weights_sorted = {k: v for k, v in sorted(all_weights.items(), key=lambda item: abs(item[1]))}"
      ]
    },
    {
      "cell_type": "code",
      "execution_count": null,
      "metadata": {
        "colab": {
          "base_uri": "https://localhost:8080/"
        },
        "id": "Tycm3N_CuK6j",
        "outputId": "b833a0f8-d2b3-4e48-a007-439042c3e189"
      },
      "outputs": [
        {
          "output_type": "execute_result",
          "data": {
            "text/plain": [
              "2384000"
            ]
          },
          "metadata": {},
          "execution_count": 19
        }
      ],
      "source": [
        "total_no_weights = len(all_weights_sorted)\n",
        "total_no_weights"
      ]
    },
    {
      "cell_type": "code",
      "execution_count": null,
      "metadata": {
        "id": "oVnfskxAuK6k"
      },
      "outputs": [],
      "source": [
        "weight_pruning_scores = []\n",
        "\n",
        "for pruning_percent in K:\n",
        "\n",
        "    new_model = load_model(\"model.keras\")\n",
        "    new_weights = trained_model.get_weights().copy()\n",
        "\n",
        "    prune_fraction = pruning_percent/100\n",
        "    number_of_weights_to_be_pruned = int(prune_fraction*total_no_weights)\n",
        "    weights_to_be_pruned = {k: all_weights_sorted[k] for k in list(all_weights_sorted)[ :  number_of_weights_to_be_pruned]}\n",
        "\n",
        "    for k, v in weights_to_be_pruned.items():\n",
        "        new_weights[k[0]][k[1], k[2]] = 0\n",
        "\n",
        "    for layer_no in range(total_no_layers - 1) :\n",
        "        new_layer_weights = new_weights[layer_no].reshape(1, new_weights[layer_no].shape[0], new_weights[layer_no].shape[1])\n",
        "        new_model.layers[layer_no].set_weights(new_layer_weights)\n",
        "\n",
        "    new_score  = new_model.evaluate(X_test_norm, Y_test_onehot, verbose=0)\n",
        "    weight_pruning_scores .append(new_score[1])"
      ]
    },
    {
      "cell_type": "markdown",
      "metadata": {
        "id": "eT4vaJoRuK6k"
      },
      "source": [
        "# 7. Neuron Pruning"
      ]
    },
    {
      "cell_type": "code",
      "execution_count": null,
      "metadata": {
        "id": "KOjSzDdzuK6k"
      },
      "outputs": [],
      "source": [
        "all_neurons = {}\n",
        "\n",
        "for layer_no in range(total_no_layers - 1):\n",
        "\n",
        "    layer_neurons = {}\n",
        "    layer_neurons_df = pd.DataFrame(trained_model.layers[layer_no].get_weights()[0])\n",
        "\n",
        "    for i in range(len(layer_neurons_df.columns)):\n",
        "        layer_neurons.update({ i : np.array( layer_neurons_df.iloc[:,i] ) })\n",
        "\n",
        "    layer_neurons = { (layer_no, k): v for k, v in layer_neurons.items() }\n",
        "    all_neurons.update(layer_neurons)"
      ]
    },
    {
      "cell_type": "code",
      "execution_count": null,
      "metadata": {
        "id": "5aa4Q4HxuK6l"
      },
      "outputs": [],
      "source": [
        "all_neurons_sorted = {k: v for k, v in sorted(all_neurons.items(), key=lambda item: np.linalg.norm(item[1], ord=2, axis=0))}"
      ]
    },
    {
      "cell_type": "code",
      "execution_count": null,
      "metadata": {
        "colab": {
          "base_uri": "https://localhost:8080/"
        },
        "id": "em-nNhzmuK6l",
        "outputId": "ef4f2f85-4a5a-47c5-e947-d9d8983e3d26"
      },
      "outputs": [
        {
          "output_type": "execute_result",
          "data": {
            "text/plain": [
              "2700"
            ]
          },
          "metadata": {},
          "execution_count": 23
        }
      ],
      "source": [
        "total_no_neurons = len(all_neurons_sorted)\n",
        "total_no_neurons"
      ]
    },
    {
      "cell_type": "code",
      "execution_count": null,
      "metadata": {
        "id": "GJrBtTIwuK6l"
      },
      "outputs": [],
      "source": [
        "neuron_pruning_scores = []\n",
        "\n",
        "for pruning_percent in K:\n",
        "\n",
        "    new_model = load_model(\"model.keras\")\n",
        "    new_weights = trained_model.get_weights().copy()\n",
        "\n",
        "    prune_fraction = pruning_percent/100\n",
        "    number_of_neurons_to_be_pruned = int(prune_fraction*total_no_neurons)\n",
        "    neurons_to_be_pruned = {k: all_neurons_sorted[k] for k in list(all_neurons_sorted)[ : number_of_neurons_to_be_pruned]}\n",
        "\n",
        "    for k, v in neurons_to_be_pruned.items():\n",
        "        new_weights[k[0]][:, k[1]] = 0\n",
        "\n",
        "    for layer_no in range(total_no_layers - 1) :\n",
        "        new_layer_weights = new_weights[layer_no].reshape(1, new_weights[layer_no].shape[0], new_weights[layer_no].shape[1])\n",
        "        new_model.layers[layer_no].set_weights(new_layer_weights)\n",
        "\n",
        "    new_score  = new_model.evaluate(X_test_norm, Y_test_onehot, verbose=0)\n",
        "    neuron_pruning_scores.append(new_score[1])"
      ]
    },
    {
      "cell_type": "markdown",
      "metadata": {
        "id": "tSdoxIb_uK6l"
      },
      "source": [
        "# 8. Pruning Results"
      ]
    },
    {
      "cell_type": "code",
      "execution_count": null,
      "metadata": {
        "colab": {
          "base_uri": "https://localhost:8080/",
          "height": 421
        },
        "id": "Akrl3vcquK6p",
        "outputId": "8a104a2c-b4b8-4d81-a4a5-0cd29a5bf5f6"
      },
      "outputs": [
        {
          "output_type": "display_data",
          "data": {
            "text/plain": [
              "<Figure size 800x400 with 1 Axes>"
            ],
            "image/png": "[encoded data removed]"
          },
          "metadata": {}
        }
      ],
      "source": [
        "plt.figure(figsize=(8, 4))\n",
        "plt.plot(pd.DataFrame(weight_pruning_scores).set_index(pd.Series(K), drop=True) , color='r')\n",
        "plt.plot(pd.DataFrame(neuron_pruning_scores).set_index(pd.Series(K), drop=True) , color='b')\n",
        "plt.title('Effect of Pruning on accuracy', weight='bold', fontsize=16)\n",
        "plt.ylabel('Score', weight='bold', fontsize=14)\n",
        "plt.xlabel('Pruning Percentage (K)', weight='bold', fontsize=14)\n",
        "plt.xticks(weight='bold', fontsize=12)\n",
        "plt.yticks(weight='bold', fontsize=12)\n",
        "plt.legend(['Weight Pruning', 'Neuron Pruning'], loc='best', prop={'size': 14})\n",
        "plt.grid(color = 'y', linewidth='0.5')\n",
        "plt.show()"
      ]
    },
    {
      "cell_type": "markdown",
      "metadata": {
        "id": "QDkNXMfpuK6q"
      },
      "source": [
        "# 9. Observations\n",
        "\n",
        "We are able to prune upto 60% of the weights with a tolerable dip in accuracy.\n",
        "\n",
        "We are able to prune upto 15% of the neurons with a tolerable dip in accuracy.\n",
        "\n",
        "For weight pruining as high a 80%, the accuracy of the pruned model is still decent.\n",
        "\n",
        "This suggests that Neural Networks are highly robust. Even if a large protion of the less significant weights are removed, the other significant weights are still able to generate a good enough result."
      ]
    },
    {
      "cell_type": "markdown",
      "metadata": {
        "id": "uJO6G5_T56Eu"
      },
      "source": [
        "# Visualizing Pruned Neurons\n",
        "Extend the code to visualize which neurons were pruned using matplotlib.\n",
        "Before pruning, plot a heatmap of neuron activations.\n",
        "After pruning, plot another heatmap showing removed neurons as blacked-out regions."
      ]
    },
    {
      "cell_type": "code",
      "source": [
        "import seaborn as sns\n",
        "from tensorflow.keras.models import Model\n",
        "from tensorflow.keras.layers import Input, Dense\n",
        "\n",
        "# Define the build_deep_autoencoder function if it's not already defined\n",
        "def build_deep_autoencoder(input_dim=784, encoding_dim=32):\n",
        "    \"\"\"\n",
        "    Builds a simple deep autoencoder model.\n",
        "\n",
        "    Args:\n",
        "        input_dim (int): Dimension of the input data.\n",
        "        encoding_dim (int): Dimension of the encoding layer.\n",
        "\n",
        "    Returns:\n",
        "        keras.Model: The deep autoencoder model.\n",
        "    \"\"\"\n",
        "    input_layer = Input(shape=(input_dim,))\n",
        "    encoded = Dense(encoding_dim, activation='relu', name='dense')(input_layer)  # Using 'dense' as layer name\n",
        "    decoded = Dense(input_dim, activation='sigmoid')(encoded)\n",
        "    autoencoder = Model(input_layer, decoded)\n",
        "    return autoencoder\n",
        "\n",
        "\n",
        "# Choose the trained model and layer to visualize (e.g. first dense layer in Deep Autoencoder)\n",
        "trained_model = build_deep_autoencoder()  # Now, build_deep_autoencoder is defined\n",
        "trained_model.compile(optimizer='adam', loss='mse')\n",
        "# Assuming you have x_train_noisy and x_train defined previously\n",
        "# trained_model.fit(x_train_noisy, x_train, epochs=1, batch_size=128, verbose=0)  # quick training\n",
        "# Placeholder for training, replace with your actual data and training process\n",
        "\n",
        "# Select a Dense layer to visualize\n",
        "target_layer_name = 'dense'  # Adjust based on model.summary()\n",
        "layer = trained_model.get_layer(target_layer_name)\n",
        "\n",
        "# Create a model to output activations from this layer\n",
        "activation_model = Model(inputs=trained_model.input, outputs=layer.output)\n",
        "\n",
        "# Choose a single input image\n",
        "# Assuming you have x_test_noisy defined previously\n",
        "# sample_input = x_test_noisy[0:1]\n",
        "# Placeholder for sample input, replace with your actual data\n",
        "sample_input = np.random.rand(1, 784)  # Replace with actual data shape if different\n",
        "\n",
        "# Get activations before pruning\n",
        "activations_before = activation_model.predict(sample_input)\n",
        "\n",
        "# Visualize activations before pruning\n",
        "plt.figure(figsize=(10, 1))\n",
        "sns.heatmap(activations_before, cmap='viridis', cbar=True)\n",
        "plt.title(\"Activations Before Pruning\")\n",
        "plt.xlabel(\"Neuron Index\")\n",
        "plt.yticks([])\n",
        "plt.show()\n",
        "\n",
        "# Simulate pruning neurons based on L2 norm of weight columns\n",
        "weights, biases = layer.get_weights()\n",
        "l2_norms = np.linalg.norm(weights, axis=0)\n",
        "threshold = np.percentile(l2_norms, 15)  # prune lowest 15%\n",
        "neuron_mask = l2_norms >= threshold\n",
        "\n",
        "# Apply pruning by zeroing out weights and biases of pruned neurons\n",
        "weights[:, ~neuron_mask] = 0\n",
        "biases[~neuron_mask] = 0\n",
        "layer.set_weights([weights, biases])\n",
        "\n",
        "# Get activations after pruning\n",
        "activations_after = activation_model.predict(sample_input)\n",
        "activations_after[:, ~neuron_mask] = -1  # mark pruned neurons for visualization\n",
        "\n",
        "# Visualize activations after pruning (pruned neurons appear black)\n",
        "plt.figure(figsize=(10, 1))\n",
        "sns.heatmap(activations_after, cmap='viridis', cbar=True, vmin=0, vmax=np.max(activations_after))\n",
        "plt.title(\"Activations After Pruning (Black = Pruned)\")\n",
        "plt.xlabel(\"Neuron Index\")\n",
        "plt.yticks([])\n",
        "plt.show()"
      ],
      "metadata": {
        "id": "BN2lqvNyBo-b",
        "outputId": "6c1b16b6-d6ef-4e9f-8c60-ab27995145ba",
        "colab": {
          "base_uri": "https://localhost:8080/",
          "height": 377
        }
      },
      "execution_count": null,
      "outputs": [
        {
          "output_type": "stream",
          "name": "stdout",
          "text": [
            "\u001b[1m1/1\u001b[0m \u001b[32m━━━━━━━━━━━━━━━━━━━━\u001b[0m\u001b[37m\u001b[0m \u001b[1m0s\u001b[0m 82ms/step\n"
          ]
        },
        {
          "output_type": "display_data",
          "data": {
            "text/plain": [
              "<Figure size 1000x100 with 2 Axes>"
            ],
            "image/png": "[encoded data removed]"
          },
          "metadata": {}
        },
        {
          "output_type": "stream",
          "name": "stdout",
          "text": [
            "\u001b[1m1/1\u001b[0m \u001b[32m━━━━━━━━━━━━━━━━━━━━\u001b[0m\u001b[37m\u001b[0m \u001b[1m0s\u001b[0m 52ms/step\n"
          ]
        },
        {
          "output_type": "display_data",
          "data": {
            "text/plain": [
              "<Figure size 1000x100 with 2 Axes>"
            ],
            "image/png": "[encoded data removed]"
          },
          "metadata": {}
        }
      ]
    }
  ],
  "metadata": {
    "colab": {
      "provenance": []
    },
    "kernelspec": {
      "display_name": "Python 3 (ipykernel)",
      "language": "python",
      "name": "python3"
    },
    "language_info": {
      "codemirror_mode": {
        "name": "ipython",
        "version": 3
      },
      "file_extension": ".py",
      "mimetype": "text/x-python",
      "name": "python",
      "nbconvert_exporter": "python",
      "pygments_lexer": "ipython3",
      "version": "3.8.20"
    }
  },
  "nbformat": 4,
  "nbformat_minor": 0
}